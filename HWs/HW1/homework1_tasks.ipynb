{
 "cells": [
  {
   "cell_type": "markdown",
   "metadata": {},
   "source": [
    "In this homework, you need to solve two tasks. For problems with theoretical calculations, you need to show a sufficient number of intermediate steps to explain how you have obtained the result. Formulas are excepted only in Latex style inside the notebook. The assignment should be uploaded in Jupyter Notebook format(`.ipynb`). Overall, there are 45 points, however, you can get a maximum of 40 points for this assignment( `your_points = max(your_points, 40)`). No bonus points will be transferred to the next assignment."
   ]
  },
  {
   "cell_type": "markdown",
   "metadata": {},
   "source": [
    "# Task 1. Martian weather. (20 points)"
   ]
  },
  {
   "cell_type": "markdown",
   "metadata": {},
   "source": [
    "In this task you need to estimate parameters and their confidence intervals for a given sample. As data, you will explore martian weather. For more visualizations look [here](https://pudding.cool/2018/01/mars-weather/).\n",
    "\n",
    "First of all, you will need some libraries. Also, fix random seed to get reproducable results."
   ]
  },
  {
   "cell_type": "code",
   "execution_count": 1,
   "metadata": {},
   "outputs": [],
   "source": [
    "import numpy as np\n",
    "from numpy.random import choice, seed\n",
    "import pandas as pd\n",
    "from scipy.stats import sem, norm, skew, chi2\n",
    "\n",
    "import matplotlib.font_manager\n",
    "\n",
    "import matplotlib.pyplot as plt\n",
    "import matplotlib as mp\n",
    "\n",
    "\n",
    "seed(366)"
   ]
  },
  {
   "cell_type": "code",
   "execution_count": 2,
   "metadata": {},
   "outputs": [],
   "source": [
    "titlesize = 20\n",
    "labelsize = 16\n",
    "legendsize = labelsize\n",
    "xticksize = 14\n",
    "yticksize = xticksize\n",
    "\n",
    "mp.rcParams['legend.markerscale'] = 1.5     # the relative size of legend markers vs. original\n",
    "mp.rcParams['legend.handletextpad'] = 0.5\n",
    "mp.rcParams['legend.labelspacing'] = 0.4    # the vertical space between the legend entries in fraction of fontsize\n",
    "mp.rcParams['legend.borderpad'] = 0.5       # border whitespace in fontsize units\n",
    "mp.rcParams['font.size'] = 12\n",
    "mp.rcParams['font.family'] = 'serif'\n",
    "mp.rcParams['font.serif'] = 'Times New Roman'\n",
    "mp.rcParams['axes.labelsize'] = labelsize\n",
    "mp.rcParams['axes.titlesize'] = titlesize\n",
    "mp.rcParams['axes.unicode_minus'] = False\n",
    "\n",
    "mp.rc('xtick', labelsize=xticksize)\n",
    "mp.rc('ytick', labelsize=yticksize)\n",
    "mp.rc('legend', fontsize=legendsize)\n",
    "\n",
    "mp.rc('font', **{'family':'serif'})"
   ]
  },
  {
   "cell_type": "markdown",
   "metadata": {},
   "source": [
    "## Part 1. Load data (1 point)\n",
    "\n",
    "You need to load data from `mars-weather.csv`, take feature for your variant, remove absent values (`Nan`s) and convert sample to `int` type. "
   ]
  },
  {
   "cell_type": "markdown",
   "metadata": {},
   "source": [
    "### a) \n",
    "\n",
    "`feature_name = \"min_temp\"`"
   ]
  },
  {
   "cell_type": "markdown",
   "metadata": {},
   "source": [
    "### b)\n",
    "\n",
    "`feature_name = \"max_temp\"`"
   ]
  },
  {
   "cell_type": "code",
   "execution_count": 3,
   "metadata": {},
   "outputs": [],
   "source": [
    "# Your code\n",
    "feature_name = \"min_temp\"\n",
    "df = pd.read_csv(\"mars-weather.csv\")[feature_name]\n",
    "sample_full = df.dropna().values.astype(np.int)"
   ]
  },
  {
   "cell_type": "raw",
   "metadata": {},
   "source": [
    "# Your code here\n",
    "feature_name = ...\n",
    "df = pd.read_csv(\"mars-weather.csv\")[feature_name]\n",
    "sample_full = df.dropna().values.astype(np.int)"
   ]
  },
  {
   "cell_type": "markdown",
   "metadata": {},
   "source": [
    "Let's take a quarter of martian year ~ 168 sols(martian days). Sample them randomly from full sample using function `choice`(from `numpy.random`) with parameter `replace=False`."
   ]
  },
  {
   "cell_type": "code",
   "execution_count": 4,
   "metadata": {},
   "outputs": [],
   "source": [
    "N = 168\n",
    "\n",
    "sample_part = choice(sample_full, size=N, replace=False)"
   ]
  },
  {
   "cell_type": "raw",
   "metadata": {},
   "source": [
    "# Your code here\n",
    "\n",
    "N = 168\n",
    "sample_part = ..."
   ]
  },
  {
   "cell_type": "markdown",
   "metadata": {},
   "source": [
    "Plot values frequences for full and partial sample using bar plot."
   ]
  },
  {
   "cell_type": "code",
   "execution_count": 5,
   "metadata": {},
   "outputs": [
    {
     "data": {
      "text/plain": [
       "Text(0, 0.5, 'Values of Min temperature')"
      ]
     },
     "execution_count": 5,
     "metadata": {},
     "output_type": "execute_result"
    },
    {
     "name": "stderr",
     "output_type": "stream",
     "text": [
      "findfont: Font family ['serif'] not found. Falling back to DejaVu Sans.\n",
      "findfont: Font family ['serif'] not found. Falling back to DejaVu Sans.\n",
      "findfont: Font family ['serif'] not found. Falling back to DejaVu Sans.\n"
     ]
    },
    {
     "data": {
      "image/png": "[encoded data removed]",
      "text/plain": [
       "<Figure size 1008x432 with 2 Axes>"
      ]
     },
     "metadata": {
      "needs_background": "light"
     },
     "output_type": "display_data"
    }
   ],
   "source": [
    "pval, pcount = np.unique(sample_part, return_counts=True)\n",
    "fval, fcount = np.unique(sample_full, return_counts=True)\n",
    "\n",
    "plt.figure(figsize=(14, 6))\n",
    "plt.subplot(121)\n",
    "plt.bar(pval, pcount)\n",
    "plt.title(\"Part\")\n",
    "plt.ylabel(\"Frequency\")\n",
    "plt.ylabel(\"Values of Min temperature\")\n",
    "\n",
    "plt.subplot(122)\n",
    "plt.bar(fval, fcount)\n",
    "plt.title(\"Full\");\n",
    "plt.ylabel(\"Frequency\")\n",
    "plt.ylabel(\"Values of Min temperature\")"
   ]
  },
  {
   "cell_type": "markdown",
   "metadata": {},
   "source": [
    "## Part 2. Parameter estimation. (6 points)\n",
    "Find the following parameters' estimates and their 95% confidence intervals (except for `mode` and `skewness`). You need to show theoretical calculations (with intermediate steps) for estimates and intervals (with intermediate steps) and then make simulation."
   ]
  },
  {
   "cell_type": "markdown",
   "metadata": {},
   "source": [
    "### a) Mean and CI"
   ]
  },
  {
   "cell_type": "markdown",
   "metadata": {},
   "source": [
    "$$ \\hat{mean} = ...$$\n",
    "\n",
    "$$ CI(\\hat{mean}) = ...$$"
   ]
  },
  {
   "cell_type": "code",
   "execution_count": 6,
   "metadata": {},
   "outputs": [],
   "source": [
    "def mean_and_normal_confidence_interval(samples, alpha=0.05):\n",
    "    \n",
    "    z_alpha = norm.ppf(1 - alpha / 2)\n",
    "    mean = np.mean(samples)\n",
    "    se = sem(samples)\n",
    "    \n",
    "    return mean, (mean - z_alpha * se, mean + z_alpha * se)"
   ]
  },
  {
   "cell_type": "code",
   "execution_count": 7,
   "metadata": {},
   "outputs": [
    {
     "data": {
      "text/plain": [
       "'Mean -76.161 with confidence interval (-77.095, -75.227)'"
      ]
     },
     "execution_count": 7,
     "metadata": {},
     "output_type": "execute_result"
    }
   ],
   "source": [
    "mean, (lower, upper) = mean_and_normal_confidence_interval(sample_part)\n",
    "f\"Mean {mean:.3f} with confidence interval ({lower:.3f}, {upper:.3f})\""
   ]
  },
  {
   "cell_type": "raw",
   "metadata": {},
   "source": [
    "# Your code here\n",
    "mean, lower, upper = ...\n",
    "f\"Mean {mean:.3f} with confidence interval ({lower:.3f}, {upper:.3f})\""
   ]
  },
  {
   "cell_type": "markdown",
   "metadata": {},
   "source": [
    "### b) Median and CI\n",
    "\n",
    "Here you can assume that PDF is continuous at the median point and provide a normal-based interval.\n",
    "\n",
    "$$ \\hat{median} = ...$$\n",
    "\n",
    "$$ CI(\\hat{median}) = ...$$"
   ]
  },
  {
   "cell_type": "code",
   "execution_count": 8,
   "metadata": {},
   "outputs": [],
   "source": [
    "def median_and_normal_confidence_interval(samples, alpha=0.05):\n",
    "    \n",
    "    z_alpha = norm.ppf(1 - alpha / 2)\n",
    "    median = np.median(samples)\n",
    "    uval, ucounts = np.unique(sample_part, return_counts=True)\n",
    "    p = ucounts / ucounts.sum()\n",
    "    f = p[uval == median][0]\n",
    "    se = 0.5 / np.sqrt(len(sample_part)) / f\n",
    "    \n",
    "    return median, (median - z_alpha * se, median + z_alpha * se)"
   ]
  },
  {
   "cell_type": "code",
   "execution_count": 9,
   "metadata": {},
   "outputs": [
    {
     "data": {
      "text/plain": [
       "'Median -76.000 with normal-based confidence interval (-77.059, -74.941)'"
      ]
     },
     "execution_count": 9,
     "metadata": {},
     "output_type": "execute_result"
    }
   ],
   "source": [
    "median, (lower, upper) = median_and_normal_confidence_interval(sample_part)\n",
    "f\"Median {median:.3f} with normal-based confidence interval ({lower:.3f}, {upper:.3f})\""
   ]
  },
  {
   "cell_type": "raw",
   "metadata": {},
   "source": [
    "# Your code here\n",
    "median, lower, upper = ...\n",
    "f\"Median {median:.3f} with normal-based confidence interval ({lower:.3f}, {upper:.3f})\""
   ]
  },
  {
   "cell_type": "markdown",
   "metadata": {},
   "source": [
    "### c) Variance and CI\n",
    "\n",
    "\n",
    "$$ \\hat{Variance} = ...$$\n",
    "\n",
    "$$ CI(\\hat{Variance}) = ...$$"
   ]
  },
  {
   "cell_type": "code",
   "execution_count": 10,
   "metadata": {},
   "outputs": [],
   "source": [
    "def variance_and_normal_confidence_interval(samples, alpha=0.05):\n",
    "    \n",
    "    n = len(samples)\n",
    "    Sn = np.var(samples) * n\n",
    "    lower, upper = chi2.ppf([alpha / 2, 1 - alpha / 2], n-1)\n",
    "    return Sn / n, (Sn / lower, Sn / upper)"
   ]
  },
  {
   "cell_type": "code",
   "execution_count": 11,
   "metadata": {},
   "outputs": [
    {
     "data": {
      "text/plain": [
       "'Variance 37.909 with confidence interval (47.845, 31.116)'"
      ]
     },
     "execution_count": 11,
     "metadata": {},
     "output_type": "execute_result"
    }
   ],
   "source": [
    "var, (lower, upper) = variance_and_normal_confidence_interval(sample_part)\n",
    "f\"Variance {var:.3f} with confidence interval ({lower:.3f}, {upper:.3f})\""
   ]
  },
  {
   "cell_type": "raw",
   "metadata": {},
   "source": [
    "# Your code here\n",
    "var, (lower, upper) = ...\n",
    "f\"Variance {var:.3f} with confidence interval ({lower:.3f}, {upper:.3f})\""
   ]
  },
  {
   "cell_type": "markdown",
   "metadata": {},
   "source": [
    "### d) Mode (most frequent value in a sample)"
   ]
  },
  {
   "cell_type": "code",
   "execution_count": 12,
   "metadata": {},
   "outputs": [],
   "source": [
    "def mode_function(sample):\n",
    "    uval, ucounts = np.unique(sample, return_counts=True)\n",
    "    return uval[np.argmax(ucounts)]"
   ]
  },
  {
   "cell_type": "code",
   "execution_count": 13,
   "metadata": {},
   "outputs": [
    {
     "data": {
      "text/plain": [
       "'Mode: -78'"
      ]
     },
     "execution_count": 13,
     "metadata": {},
     "output_type": "execute_result"
    }
   ],
   "source": [
    "mode = mode_function(sample_part)\n",
    "f\"Mode: {mode}\""
   ]
  },
  {
   "cell_type": "raw",
   "metadata": {},
   "source": [
    "# Your code here\n",
    "mode = ...\n",
    "f\"Mode: {mode}\""
   ]
  },
  {
   "cell_type": "markdown",
   "metadata": {},
   "source": [
    "### e) Skewness"
   ]
  },
  {
   "cell_type": "code",
   "execution_count": 14,
   "metadata": {},
   "outputs": [
    {
     "data": {
      "text/plain": [
       "'Skewness: 1.214688e-02'"
      ]
     },
     "execution_count": 14,
     "metadata": {},
     "output_type": "execute_result"
    }
   ],
   "source": [
    "f\"Skewness: {skew(sample_part):e}\""
   ]
  },
  {
   "cell_type": "raw",
   "metadata": {},
   "source": [
    "# Your code here\n",
    "skewness = ...\n",
    "f\"Skewness: {skewness:e}\""
   ]
  },
  {
   "cell_type": "markdown",
   "metadata": {},
   "source": [
    "## Part 3. Bootstrap (4 points)\n",
    "\n",
    "Find confidence intervals for following estimates using bootsrap. Use function `choice` with parameter `replace=True` for bootstrap sampling. Try different numbers of generated samples."
   ]
  },
  {
   "cell_type": "code",
   "execution_count": 15,
   "metadata": {},
   "outputs": [],
   "source": [
    "def get_bootstrap_variance(samples, func, nruns=100):\n",
    "    n = len(samples)\n",
    "    values = [func(choice(samples, size=n, replace=True)) for _ in range(nruns)]\n",
    "    mean = np.mean(values)\n",
    "    var = np.mean((values - mean)**2)\n",
    "    return var"
   ]
  },
  {
   "cell_type": "code",
   "execution_count": 16,
   "metadata": {},
   "outputs": [],
   "source": [
    "def estimate_and_bootstrap_normal_confidence_interval(samples, func, nruns=100, alpha=0.05):\n",
    "    \n",
    "    z_alpha = norm.ppf(1 - alpha / 2)\n",
    "    value = func(samples)\n",
    "    se = np.sqrt(get_bootstrap_variance(samples, func, nruns))\n",
    "    \n",
    "    return value, (value - z_alpha * se, value + z_alpha * se)"
   ]
  },
  {
   "cell_type": "markdown",
   "metadata": {},
   "source": [
    "### a) Mean and CI"
   ]
  },
  {
   "cell_type": "code",
   "execution_count": 17,
   "metadata": {},
   "outputs": [
    {
     "data": {
      "text/plain": [
       "'Mean -76.161 with confident interval (-76.933, -75.388)'"
      ]
     },
     "execution_count": 17,
     "metadata": {},
     "output_type": "execute_result"
    }
   ],
   "source": [
    "mean, (lower, upper) = estimate_and_bootstrap_normal_confidence_interval(sample_part, np.mean)\n",
    "f\"Mean {mean:.3f} with confident interval ({lower:.3f}, {upper:.3f})\""
   ]
  },
  {
   "cell_type": "raw",
   "metadata": {},
   "source": [
    "# Your code here\n",
    "mean, lower, upper = ...\n",
    "f\"Mean {mean:.3f} with confident interval ({lower:.3f}, {upper:.3f})\""
   ]
  },
  {
   "cell_type": "markdown",
   "metadata": {},
   "source": [
    "### b) Median and CI"
   ]
  },
  {
   "cell_type": "code",
   "execution_count": 18,
   "metadata": {},
   "outputs": [
    {
     "data": {
      "text/plain": [
       "'Median -76.000 with normal-based confident interval (-77.188, -74.812)'"
      ]
     },
     "execution_count": 18,
     "metadata": {},
     "output_type": "execute_result"
    }
   ],
   "source": [
    "median, (lower, upper) = estimate_and_bootstrap_normal_confidence_interval(sample_part, np.median)\n",
    "f\"Median {median:.3f} with normal-based confident interval ({lower:.3f}, {upper:.3f})\""
   ]
  },
  {
   "cell_type": "raw",
   "metadata": {},
   "source": [
    "# Your code here\n",
    "median, lower, upper = ...\n",
    "f\"Median {median:.3f} with normal-based confident interval ({lower:.3f}, {upper:.3f})\""
   ]
  },
  {
   "cell_type": "markdown",
   "metadata": {},
   "source": [
    "### c) Variance and CI"
   ]
  },
  {
   "cell_type": "code",
   "execution_count": 19,
   "metadata": {},
   "outputs": [
    {
     "data": {
      "text/plain": [
       "'Variance 37.909 with confident interval (31.693, 44.125)'"
      ]
     },
     "execution_count": 19,
     "metadata": {},
     "output_type": "execute_result"
    }
   ],
   "source": [
    "var, (lower, upper) = estimate_and_bootstrap_normal_confidence_interval(sample_part, np.var)\n",
    "f\"Variance {var:.3f} with confident interval ({lower:.3f}, {upper:.3f})\""
   ]
  },
  {
   "cell_type": "raw",
   "metadata": {},
   "source": [
    "# Your code here\n",
    "var, lower, upper = ...\n",
    "f\"Variance {var:.3f} with confident interval ({lower:.3f}, {upper:.3f})\""
   ]
  },
  {
   "cell_type": "markdown",
   "metadata": {},
   "source": [
    "## Part 4. Comparison with true values. (1 point)\n",
    "\n",
    "Compare with estimates calculated over full sample. Write conclusion about estimates and their confidence intervals obtained without and with bootstrap. Also, you can share some conclusions about martian weather :)"
   ]
  },
  {
   "cell_type": "code",
   "execution_count": 20,
   "metadata": {},
   "outputs": [
    {
     "data": {
      "text/plain": [
       "['mean: -76.121',\n",
       " 'median: -76.000',\n",
       " 'var: 30.279',\n",
       " 'mode_function: -77.000',\n",
       " 'skew: -0.057']"
      ]
     },
     "execution_count": 20,
     "metadata": {},
     "output_type": "execute_result"
    }
   ],
   "source": [
    "funcs = [np.mean, np.median, np.var, mode_function, skew]\n",
    "[f\"{func.__name__.split('.')[-1]}: {func(sample_full):.3f}\" for func in funcs]"
   ]
  },
  {
   "cell_type": "raw",
   "metadata": {},
   "source": [
    "# Your code here\n",
    "\n",
    "mean = ...\n",
    "median = ...\n",
    "var = ...\n",
    "moda = ...\n",
    "skewness = ..."
   ]
  },
  {
   "cell_type": "markdown",
   "metadata": {},
   "source": [
    "## Part 5. Confidence intervals and sample size. (8 points)\n",
    "\n",
    "Compare size of confidence intervals **for the mean** obtained without and with bootstrap. Additionally, compare an empirical coverage of different confidence intervals (by generating sufficient number of samples of corresponding size and calculating proportion of cases when the interval covers the mean of the whole data column). Consider sizes `[42, 84, 126, ..., 1344]`. Plot results and make conclution about their accuracy."
   ]
  },
  {
   "cell_type": "code",
   "execution_count": 21,
   "metadata": {},
   "outputs": [],
   "source": [
    "seed(476)\n",
    "# sizes = [21, 42, 84, 168, 335, 670, 1340]\n",
    "sizes = 42 * np.arange(1, 33)\n"
   ]
  },
  {
   "cell_type": "raw",
   "metadata": {},
   "source": [
    "# Compare size of confidence intervals obtained without and with bootstrap\n",
    "# Your code here\n",
    "\n"
   ]
  },
  {
   "cell_type": "code",
   "execution_count": 22,
   "metadata": {},
   "outputs": [],
   "source": [
    "results = np.empty((len(sizes), 2))\n",
    "for i, N_i in enumerate(sizes): \n",
    "    sample_part = choice(sample_full, size=N_i, replace=False)\n",
    "    \n",
    "    mean, (lower, upper) = mean_and_normal_confidence_interval(sample_part)\n",
    "    results[i, 0] = upper - lower\n",
    "    \n",
    "    mean, (lower, upper) = estimate_and_bootstrap_normal_confidence_interval(sample_part, np.mean, nruns=1000)\n",
    "    results[i, 1] = upper - lower"
   ]
  },
  {
   "cell_type": "raw",
   "metadata": {},
   "source": [
    "# Plot results\n",
    "# Your code here\n",
    "\n"
   ]
  },
  {
   "cell_type": "code",
   "execution_count": 23,
   "metadata": {},
   "outputs": [
    {
     "data": {
      "text/plain": [
       "Text(0, 0.5, 'CI size')"
      ]
     },
     "execution_count": 23,
     "metadata": {},
     "output_type": "execute_result"
    },
    {
     "data": {
      "image/png": "[encoded data removed]",
      "text/plain": [
       "<Figure size 576x432 with 1 Axes>"
      ]
     },
     "metadata": {
      "needs_background": "light"
     },
     "output_type": "display_data"
    }
   ],
   "source": [
    "plt.figure(figsize=(8, 6))\n",
    "plt.plot(sizes, results[:, 0], \"ro\", label=\"w/o bootstrap\")\n",
    "plt.plot(sizes, results[:, 1], \"go\", label=\"w bootstrap\")\n",
    "plt.grid(True)\n",
    "plt.legend()\n",
    "plt.xlabel(\"Sample size\")\n",
    "plt.ylabel(\"CI size\")"
   ]
  },
  {
   "cell_type": "raw",
   "metadata": {},
   "source": [
    "# Compare an empirical coverage of different confidence intervals\n",
    "# Your code here\n",
    "\n"
   ]
  },
  {
   "cell_type": "raw",
   "metadata": {},
   "source": [
    "# Plot results\n",
    "# Your code here\n",
    "\n"
   ]
  },
  {
   "cell_type": "markdown",
   "metadata": {},
   "source": [
    "# Task 2. Currency in RC-circuit. (25 points)\n",
    "\n",
    "In this part you need to estimate parameters and apply delta method. \n",
    "\n",
    "First of all, you will need some libraries. Also, fix random seed to get reproducable results."
   ]
  },
  {
   "cell_type": "code",
   "execution_count": 24,
   "metadata": {},
   "outputs": [],
   "source": [
    "import numpy as np\n",
    "from scipy.stats import norm, uniform\n",
    "from numpy.random import choice, seed\n",
    "\n",
    "seed(100)"
   ]
  },
  {
   "cell_type": "markdown",
   "metadata": {},
   "source": [
    "## Part 1. Estimate parameters. (4 points)"
   ]
  },
  {
   "cell_type": "markdown",
   "metadata": {},
   "source": [
    "Assume that there is aт RC-circuit with a capacitor and a resistor. \n",
    "<img src=\"circuit.png\" width=\"200\"  class=\"center\">\n",
    "\n",
    "We charge the capacitor until it reaches voltage $V$ and measure current intensity. In this case voltage on the capacitor yields the formula for exponential decay:\n",
    "\n",
    "$$ V_C(t) = V e^{-\\frac{t}{RC}} $$\n",
    "\n",
    "Let's assume that voltage $V$ and resistence $R$ are independent and belong to the following distributions:\n",
    "\n",
    "### a) \n",
    "$V \\sim N(5, 1)$, \n",
    "\n",
    "$R \\sim Uniform(5, 10)$\n",
    "\n",
    "### b) \n",
    "$V \\sim N(15, 3)$, \n",
    "\n",
    "$R \\sim Exp(20)$\n",
    "\n",
    "Consider **true values** for $V$ and $R$ to be the means of the corresponding distributions."
   ]
  },
  {
   "cell_type": "markdown",
   "metadata": {},
   "source": [
    "Generate sample for $V$ of size 100. Apply maximum likelihood to estimate the mean. Show theoretical calculations for the estimates (with intermediate steps) and make simulation.\n",
    "\n",
    "$$\\hat{V_{mean}} = ...$$"
   ]
  },
  {
   "cell_type": "code",
   "execution_count": 25,
   "metadata": {},
   "outputs": [],
   "source": [
    "size = 10\n",
    "V_mean = 5\n",
    "V_sigma = 1\n",
    "\n",
    "V_sample = norm.rvs(loc=V_mean, scale=V_sigma, size=size)"
   ]
  },
  {
   "cell_type": "code",
   "execution_count": 26,
   "metadata": {},
   "outputs": [
    {
     "data": {
      "text/plain": [
       "'Mean: 5.0206, SE: 0.7090'"
      ]
     },
     "execution_count": 26,
     "metadata": {},
     "output_type": "execute_result"
    }
   ],
   "source": [
    "V_mean_est = V_sample.mean()\n",
    "V_sigma_est = np.mean((V_sample - V_mean_est)**2)\n",
    "f\"Mean: {V_mean_est:.4f}, SE: {V_sigma_est:.4f}\""
   ]
  },
  {
   "cell_type": "raw",
   "metadata": {},
   "source": [
    "# Your code here\n"
   ]
  },
  {
   "cell_type": "markdown",
   "metadata": {},
   "source": [
    "Generate sample for $R$ on size 100. Apply maximum likelihood to estimate the mean. Show theoretical calculations for estimates (with intermediate steps) and make simulation."
   ]
  },
  {
   "cell_type": "code",
   "execution_count": 42,
   "metadata": {},
   "outputs": [],
   "source": [
    "R_min = 5\n",
    "R_max = 10\n",
    "\n",
    "R_sample = uniform.rvs(loc=R_min, scale=R_max - R_min, size=size)"
   ]
  },
  {
   "cell_type": "code",
   "execution_count": 44,
   "metadata": {},
   "outputs": [
    {
     "data": {
      "text/plain": [
       "'Mean: 3.7500'"
      ]
     },
     "execution_count": 44,
     "metadata": {},
     "output_type": "execute_result"
    }
   ],
   "source": [
    "R_mean_est = (np.max(R_sample) + np.min(R_sample)) / 2.\n",
    "f\"Mean: {R_mean_est/2:.4f}\""
   ]
  },
  {
   "cell_type": "raw",
   "metadata": {},
   "source": [
    "# Your code here\n"
   ]
  },
  {
   "cell_type": "markdown",
   "metadata": {},
   "source": [
    "## Part 2. Apply delta method. (8 points)"
   ]
  },
  {
   "cell_type": "markdown",
   "metadata": {},
   "source": [
    "Assume, that we measure current intensity after 1 second. Let's take $C = 1$. In this case we get the following simplified formula:\n",
    "\n",
    "$$ I = \\frac{V}{R} e^{-\\frac{1}{R}} $$\n",
    "\n",
    "Find estimate for current and it's confidence interval. Show theoretical calculations for estimates (with intermediate steps) and make simulation.\n",
    "\n",
    "$$\\hat{I} = ...$$\n",
    "\n",
    "$$ CI(\\hat{I}) = ...$$"
   ]
  },
  {
   "cell_type": "markdown",
   "metadata": {},
   "source": [
    "Результат для случая R - равномерное\n",
    "![Результат для равномерного случая](task2_formulas.png)\n",
    "Результат для случая R - экспоненциальное\n",
    "![Результат для равномерного случая](task2_formulas2.png)\n",
    "![Результат для равномерного случая](task2_formulas3.png)"
   ]
  },
  {
   "cell_type": "code",
   "execution_count": 29,
   "metadata": {},
   "outputs": [],
   "source": [
    "n = size\n",
    "theta = R_max_est\n",
    "sigma = V_sigma\n",
    "V0 = V_mean_est\n",
    "R0 = R_max_est\n",
    "I = 1./n * np.diag([sigma**2, theta**2])\n",
    "g = np.array([2 / R0 * np.exp(-2 / R0), -2 * V0 / R0**3 * np.exp(-2 / R0) * (R0 - 2), ]).reshape(-1, 1)"
   ]
  },
  {
   "cell_type": "code",
   "execution_count": 30,
   "metadata": {},
   "outputs": [
    {
     "data": {
      "text/plain": [
       "'SE for delta method: 2.169314e-01'"
      ]
     },
     "execution_count": 30,
     "metadata": {},
     "output_type": "execute_result"
    }
   ],
   "source": [
    "se = np.sqrt(g.T@I@g).item()\n",
    "f\"SE for delta method: {se:e}\""
   ]
  },
  {
   "cell_type": "raw",
   "metadata": {},
   "source": [
    "# Your code here\n",
    "se = ...\n",
    "f\"SE for delta method: {se:e}\""
   ]
  },
  {
   "cell_type": "markdown",
   "metadata": {},
   "source": [
    "## Part 3. Non-parametric bootstrap estimation. (2 points)\n",
    "\n",
    "Estimate confidence interval for $I$ using non-parametric bootstrap."
   ]
  },
  {
   "cell_type": "code",
   "execution_count": 31,
   "metadata": {},
   "outputs": [],
   "source": [
    "def get_nonparametric_bootstrap_variance(V_sample_original, R_sample_original, nruns=1000):\n",
    "    V_n = len(V_sample_original)\n",
    "    R_n = len(R_sample_original)\n",
    "    V_values = np.array([np.mean(choice(V_sample_original, size=V_n, replace=True)) for _ in range(nruns)])\n",
    "    R_values = np.array([0.5*np.max(choice(R_sample_original, size=R_n, replace=True)) for _ in range(nruns)])\n",
    "    values = 2 * V_values / R_values * np.exp(-2 / R_values)\n",
    "    mean = np.mean(values)\n",
    "    var = np.mean((values - mean)**2)\n",
    "    return var"
   ]
  },
  {
   "cell_type": "code",
   "execution_count": 32,
   "metadata": {},
   "outputs": [
    {
     "data": {
      "text/plain": [
       "'SE for non-parametric bootstrap: 9.062277e-02'"
      ]
     },
     "execution_count": 32,
     "metadata": {},
     "output_type": "execute_result"
    }
   ],
   "source": [
    "se = np.sqrt(get_nonparametric_bootstrap_variance(V_sample, R_sample))\n",
    "f\"SE for non-parametric bootstrap: {se:e}\""
   ]
  },
  {
   "cell_type": "raw",
   "metadata": {},
   "source": [
    "# Your code here\n",
    "se = ...\n",
    "f\"SE for non-parametric bootstrap: {se:e}\""
   ]
  },
  {
   "cell_type": "markdown",
   "metadata": {},
   "source": [
    "## Part 4. Parametric bootstrap estimation. (3 points)\n",
    "\n",
    "Estimate confidence interval for $I$ using parametric bootstrap."
   ]
  },
  {
   "cell_type": "code",
   "execution_count": 33,
   "metadata": {},
   "outputs": [],
   "source": [
    "def get_parametric_bootstrap_variance(V_sample_original, R_sample_original, nruns=1000):\n",
    "    V_mean = np.mean(V_sample_original)\n",
    "    V_std = np.std(V_sample_original)\n",
    "    V_n = len(V_sample_original)\n",
    "\n",
    "    R_max = np.max(R_sample_original)\n",
    "    R_n = len(R_sample_original)\n",
    "\n",
    "\n",
    "    V_values = np.array([np.mean(norm.rvs(loc=V_mean, scale=V_sigma, size=V_n)) for _ in range(nruns)])\n",
    "    R_values = np.array([np.mean(uniform.rvs(scale=R_max, size=R_n)) for _ in range(nruns)])\n",
    "    values = V_values / R_values * np.exp(-1 / R_values)\n",
    "    mean = np.mean(values)\n",
    "    var = np.mean((values - mean)**2)\n",
    "    return var"
   ]
  },
  {
   "cell_type": "code",
   "execution_count": 34,
   "metadata": {},
   "outputs": [
    {
     "data": {
      "text/plain": [
       "'SE for parametric bootstrap: 1.437596e-01'"
      ]
     },
     "execution_count": 34,
     "metadata": {},
     "output_type": "execute_result"
    }
   ],
   "source": [
    "se = np.sqrt(get_parametric_bootstrap_variance(V_sample, R_sample))\n",
    "f\"SE for parametric bootstrap: {se:e}\""
   ]
  },
  {
   "cell_type": "raw",
   "metadata": {},
   "source": [
    "# Your code here\n",
    "se = ...\n",
    "f\"SE for parametric bootstrap: {se:e}\""
   ]
  },
  {
   "cell_type": "markdown",
   "metadata": {},
   "source": [
    "## Part 5. Compare results. (8 points)"
   ]
  },
  {
   "cell_type": "markdown",
   "metadata": {},
   "source": [
    "Compare size of confidence intervals obtained using delta method, parametric and non-parametric bootstrap. Additionally, compare an empirical coverage of different confidence intervals (by generating sufficient number of samples of corresponding size and calculating proportion of cases when the interval covers the true value for the current $I$). Consider sizes `[1e1, ..., 1e4]`. Plot results and make conclution about their accuracy."
   ]
  },
  {
   "cell_type": "code",
   "execution_count": 35,
   "metadata": {},
   "outputs": [],
   "source": [
    "sizes = np.logspace(2, 5, 4).astype(np.int)"
   ]
  },
  {
   "cell_type": "raw",
   "metadata": {},
   "source": [
    "# Compare size of confidence intervals obtained using delta method, parametric and non-parametric bootstrap\n",
    "# Your code here\n",
    "\n"
   ]
  },
  {
   "cell_type": "raw",
   "metadata": {},
   "source": [
    "# Plot results\n",
    "# Your code here\n",
    "\n"
   ]
  },
  {
   "cell_type": "code",
   "execution_count": 36,
   "metadata": {},
   "outputs": [],
   "source": [
    "results = np.empty((len(sizes), 3))\n",
    "\n",
    "for s, size in enumerate(sizes):\n",
    "\n",
    "    V_sample = norm.rvs(loc=V_mean, scale=V_sigma, size=size)\n",
    "    R_sample = uniform.rvs(scale=R_max, size=size)\n",
    "\n",
    "    n = size\n",
    "    theta = R_max_est\n",
    "    sigma = V_sigma\n",
    "    V0 = V_mean_est\n",
    "    R0 = R_max_est\n",
    "    I = 1./n * np.diag([sigma**2, theta**2])\n",
    "    g = np.array([2 / R0 * np.exp(-2 / R0), -2 * V0 / R0**3 * np.exp(-2 / R0) * (R0 - 2), ]).reshape(-1, 1)\n",
    "    se = np.sqrt(g.T@I@g).item()\n",
    "    results[s, 0] = se\n",
    "    se = np.sqrt(get_nonparametric_bootstrap_variance(V_sample, R_sample))\n",
    "    results[s, 1] = se\n",
    "    se = np.sqrt(get_parametric_bootstrap_variance(V_sample, R_sample))\n",
    "    results[s, 2] = se"
   ]
  },
  {
   "cell_type": "code",
   "execution_count": 37,
   "metadata": {},
   "outputs": [
    {
     "data": {
      "text/plain": [
       "Text(0, 0.5, 'CI size')"
      ]
     },
     "execution_count": 37,
     "metadata": {},
     "output_type": "execute_result"
    },
    {
     "data": {
      "image/png": "[encoded data removed]",
      "text/plain": [
       "<Figure size 576x432 with 1 Axes>"
      ]
     },
     "metadata": {
      "needs_background": "light"
     },
     "output_type": "display_data"
    }
   ],
   "source": [
    "plt.figure(figsize=(8, 6))\n",
    "plt.plot(sizes, results[:, 0], \"ro\", label=\"w/o bootstrap\")\n",
    "plt.plot(sizes, results[:, 1], \"go\", label=\"non-par bootstrap\")\n",
    "plt.plot(sizes, results[:, 2], \"bo\", label=\"par bootstrap\")\n",
    "plt.grid(True)\n",
    "plt.legend()\n",
    "plt.xscale(\"log\")\n",
    "plt.xlabel(\"Sample size\")\n",
    "plt.ylabel(\"CI size\")"
   ]
  },
  {
   "cell_type": "raw",
   "metadata": {},
   "source": [
    "# Compare an empirical coverage of different confidence intervals\n",
    "# Your code here\n",
    "\n"
   ]
  },
  {
   "cell_type": "raw",
   "metadata": {},
   "source": [
    "# Plot results\n",
    "# Your code here\n",
    "\n"
   ]
  },
  {
   "cell_type": "markdown",
   "metadata": {},
   "source": []
  }
 ],
 "metadata": {
  "kernelspec": {
   "display_name": "Python 3",
   "language": "python",
   "name": "python3"
  },
  "language_info": {
   "codemirror_mode": {
    "name": "ipython",
    "version": 3
   },
   "file_extension": ".py",
   "mimetype": "text/x-python",
   "name": "python",
   "nbconvert_exporter": "python",
   "pygments_lexer": "ipython3",
   "version": "3.8.3"
  }
 },
 "nbformat": 4,
 "nbformat_minor": 4
}
